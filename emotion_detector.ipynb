{
 "cells": [
  {
   "attachments": {},
   "cell_type": "markdown",
   "metadata": {},
   "source": [
    "**Importing Libraries**"
   ]
  },
  {
   "cell_type": "code",
   "execution_count": 1,
   "metadata": {},
   "outputs": [],
   "source": [
    "import numpy as np\n",
    "import pandas as pd\n",
    "import matplotlib.pyplot as plt\n",
    "import seaborn as sns\n",
    "import os\n",
    "\n",
    "#importing deep learning libraries\n",
    "import tensorflow as tf\n",
    "from keras.preprocessing.image import ImageDataGenerator\n",
    "from keras.models import Sequential\n",
    "from keras.layers import Conv2D, MaxPooling2D, BatchNormalization, Dropout, Flatten, Dense\n",
    "from keras.optimizers import Adam, SGD, RMSprop\n",
    "from keras.callbacks import ModelCheckpoint, EarlyStopping, ReduceLROnPlateau"
   ]
  },
  {
   "attachments": {},
   "cell_type": "markdown",
   "metadata": {},
   "source": [
    "**Extracting Training data & Validation data**"
   ]
  },
  {
   "cell_type": "code",
   "execution_count": 2,
   "metadata": {},
   "outputs": [
    {
     "name": "stdout",
     "output_type": "stream",
     "text": [
      "Found 28709 images belonging to 7 classes.\n"
     ]
    }
   ],
   "source": [
    "datagen_train = ImageDataGenerator()\n",
    "\n",
    "training_set = datagen_train.flow_from_directory(r\"C:\\Users\\ritul\\OneDrive\\Documents\\ML projects\\Main Projects\\Emotion Detector\\data\\train\",\n",
    "                                                target_size=(48,48),\n",
    "                                                color_mode=\"grayscale\",\n",
    "                                                batch_size=128,\n",
    "                                                class_mode=\"categorical\",\n",
    "                                                shuffle=True)\n",
    "\n"
   ]
  },
  {
   "cell_type": "code",
   "execution_count": 3,
   "metadata": {},
   "outputs": [
    {
     "name": "stdout",
     "output_type": "stream",
     "text": [
      "Found 7178 images belonging to 7 classes.\n"
     ]
    }
   ],
   "source": [
    "datagen_val = ImageDataGenerator()\n",
    "test_set = datagen_train.flow_from_directory(r\"C:\\Users\\ritul\\OneDrive\\Documents\\ML projects\\Main Projects\\Emotion Detector\\data\\validation\",\n",
    "                                                target_size=(48,48),\n",
    "                                                color_mode=\"grayscale\",\n",
    "                                                batch_size=128,\n",
    "                                                class_mode=\"categorical\",\n",
    "                                                shuffle=True)"
   ]
  },
  {
   "attachments": {},
   "cell_type": "markdown",
   "metadata": {},
   "source": [
    "**Creating the Emotion Detector model**"
   ]
  },
  {
   "cell_type": "code",
   "execution_count": 4,
   "metadata": {},
   "outputs": [],
   "source": [
    "no_of_classes = 7\n",
    "model = Sequential()\n",
    "\n",
    "# First CNN layer\n",
    "model.add(Conv2D(filters=64, kernel_size=3, activation='relu',input_shape=(48,48,1),padding='same'))\n",
    "model.add(BatchNormalization())\n",
    "model.add(MaxPooling2D(pool_size=(2,2)))\n",
    "model.add(Dropout(0.25)) #prevents overfitting\n",
    "\n",
    "# Second CNN layer\n",
    "model.add(Conv2D(filters=128, kernel_size=3, activation='relu',padding='same'))\n",
    "model.add(BatchNormalization())\n",
    "model.add(MaxPooling2D(pool_size=(2,2)))\n",
    "model.add(Dropout(0.25)) \n",
    "\n",
    "# Third CNN layer\n",
    "model.add(Conv2D(filters=512, kernel_size=3, activation='relu', padding='same'))\n",
    "model.add(BatchNormalization())\n",
    "model.add(MaxPooling2D(pool_size=(2,2)))\n",
    "model.add(Dropout(0.25)) \n",
    "\n",
    "# Fourth CNN layer\n",
    "model.add(Conv2D(filters=512, kernel_size=3, activation='relu', padding='same'))\n",
    "model.add(BatchNormalization())\n",
    "model.add(MaxPooling2D(pool_size=(2,2)))\n",
    "model.add(Dropout(0.25)) \n",
    "\n",
    "# Flattening\n",
    "model.add(Flatten())\n",
    "\n",
    "# Fully connected first layer\n",
    "model.add(Dense(256,activation='relu'))\n",
    "model.add(BatchNormalization())\n",
    "model.add(Dropout(0.25))\n",
    "\n",
    "# Fully connected second layer\n",
    "model.add(Dense(64,activation='relu'))\n",
    "model.add(BatchNormalization())\n",
    "model.add(Dropout(0.5))\n",
    "\n",
    "\n",
    "model.add(Dense(no_of_classes, activation='softmax'))"
   ]
  },
  {
   "cell_type": "code",
   "execution_count": 5,
   "metadata": {},
   "outputs": [],
   "source": [
    "#Compiling the CNN\n",
    "opt = Adam(learning_rate= 0.0001) \n",
    "model.compile(optimizer=opt, loss=\"categorical_crossentropy\", metrics=['accuracy'])"
   ]
  },
  {
   "cell_type": "code",
   "execution_count": 6,
   "metadata": {},
   "outputs": [
    {
     "name": "stdout",
     "output_type": "stream",
     "text": [
      "Model: \"sequential\"\n",
      "_________________________________________________________________\n",
      " Layer (type)                Output Shape              Param #   \n",
      "=================================================================\n",
      " conv2d (Conv2D)             (None, 48, 48, 64)        640       \n",
      "                                                                 \n",
      " batch_normalization (BatchN  (None, 48, 48, 64)       256       \n",
      " ormalization)                                                   \n",
      "                                                                 \n",
      " max_pooling2d (MaxPooling2D  (None, 24, 24, 64)       0         \n",
      " )                                                               \n",
      "                                                                 \n",
      " dropout (Dropout)           (None, 24, 24, 64)        0         \n",
      "                                                                 \n",
      " conv2d_1 (Conv2D)           (None, 24, 24, 128)       73856     \n",
      "                                                                 \n",
      " batch_normalization_1 (Batc  (None, 24, 24, 128)      512       \n",
      " hNormalization)                                                 \n",
      "                                                                 \n",
      " max_pooling2d_1 (MaxPooling  (None, 12, 12, 128)      0         \n",
      " 2D)                                                             \n",
      "                                                                 \n",
      " dropout_1 (Dropout)         (None, 12, 12, 128)       0         \n",
      "                                                                 \n",
      " conv2d_2 (Conv2D)           (None, 12, 12, 512)       590336    \n",
      "                                                                 \n",
      " batch_normalization_2 (Batc  (None, 12, 12, 512)      2048      \n",
      " hNormalization)                                                 \n",
      "                                                                 \n",
      " max_pooling2d_2 (MaxPooling  (None, 6, 6, 512)        0         \n",
      " 2D)                                                             \n",
      "                                                                 \n",
      " dropout_2 (Dropout)         (None, 6, 6, 512)         0         \n",
      "                                                                 \n",
      " conv2d_3 (Conv2D)           (None, 6, 6, 512)         2359808   \n",
      "                                                                 \n",
      " batch_normalization_3 (Batc  (None, 6, 6, 512)        2048      \n",
      " hNormalization)                                                 \n",
      "                                                                 \n",
      " max_pooling2d_3 (MaxPooling  (None, 3, 3, 512)        0         \n",
      " 2D)                                                             \n",
      "                                                                 \n",
      " dropout_3 (Dropout)         (None, 3, 3, 512)         0         \n",
      "                                                                 \n",
      " flatten (Flatten)           (None, 4608)              0         \n",
      "                                                                 \n",
      " dense (Dense)               (None, 256)               1179904   \n",
      "                                                                 \n",
      " batch_normalization_4 (Batc  (None, 256)              1024      \n",
      " hNormalization)                                                 \n",
      "                                                                 \n",
      " dropout_4 (Dropout)         (None, 256)               0         \n",
      "                                                                 \n",
      " dense_1 (Dense)             (None, 64)                16448     \n",
      "                                                                 \n",
      " batch_normalization_5 (Batc  (None, 64)               256       \n",
      " hNormalization)                                                 \n",
      "                                                                 \n",
      " dropout_5 (Dropout)         (None, 64)                0         \n",
      "                                                                 \n",
      " dense_2 (Dense)             (None, 7)                 455       \n",
      "                                                                 \n",
      "=================================================================\n",
      "Total params: 4,227,591\n",
      "Trainable params: 4,224,519\n",
      "Non-trainable params: 3,072\n",
      "_________________________________________________________________\n",
      "None\n"
     ]
    }
   ],
   "source": [
    "print(model.summary())"
   ]
  },
  {
   "attachments": {},
   "cell_type": "markdown",
   "metadata": {},
   "source": [
    "**Fitting the model with training & validation data**"
   ]
  },
  {
   "cell_type": "code",
   "execution_count": 7,
   "metadata": {},
   "outputs": [],
   "source": [
    "checkpoint = ModelCheckpoint(\"./model.h5\", monitor='val_acc', verbose=1, save_best_only=True, mode='max')\n",
    "\n",
    "early_stopping = EarlyStopping(monitor='val_loss',\n",
    "                          min_delta=0,\n",
    "                          patience=3,\n",
    "                          verbose=1,\n",
    "                          restore_best_weights=True\n",
    "                          )\n",
    "\n",
    "reduce_learningrate = ReduceLROnPlateau(monitor='val_loss',\n",
    "                              factor=0.2,\n",
    "                              patience=3,\n",
    "                              verbose=1,\n",
    "                              min_delta=0.0001)\n",
    "\n",
    "callbacks_list = [early_stopping,checkpoint,reduce_learningrate]\n"
   ]
  },
  {
   "cell_type": "code",
   "execution_count": 16,
   "metadata": {},
   "outputs": [
    {
     "name": "stdout",
     "output_type": "stream",
     "text": [
      "Epoch 1/10\n"
     ]
    },
    {
     "name": "stderr",
     "output_type": "stream",
     "text": [
      "C:\\Users\\ritul\\AppData\\Local\\Temp\\ipykernel_24396\\2585796990.py:2: UserWarning: `Model.fit_generator` is deprecated and will be removed in a future version. Please use `Model.fit`, which supports generators.\n",
      "  history = model.fit_generator(generator=training_set,\n"
     ]
    },
    {
     "name": "stdout",
     "output_type": "stream",
     "text": [
      "225/225 [==============================] - ETA: 0s - loss: 2.0191 - accuracy: 0.3058WARNING:tensorflow:Can save best model only with val_acc available, skipping.\n",
      "225/225 [==============================] - 514s 2s/step - loss: 2.0191 - accuracy: 0.3058 - val_loss: 1.6323 - val_accuracy: 0.3945 - lr: 1.0000e-04\n",
      "Epoch 2/10\n",
      "225/225 [==============================] - ETA: 0s - loss: 1.9121 - accuracy: 0.3374WARNING:tensorflow:Can save best model only with val_acc available, skipping.\n",
      "225/225 [==============================] - 515s 2s/step - loss: 1.9121 - accuracy: 0.3374 - val_loss: 1.5822 - val_accuracy: 0.4067 - lr: 1.0000e-04\n",
      "Epoch 3/10\n",
      "225/225 [==============================] - ETA: 0s - loss: 1.8233 - accuracy: 0.3625WARNING:tensorflow:Can save best model only with val_acc available, skipping.\n",
      "225/225 [==============================] - 517s 2s/step - loss: 1.8233 - accuracy: 0.3625 - val_loss: 1.5129 - val_accuracy: 0.4312 - lr: 1.0000e-04\n",
      "Epoch 4/10\n",
      "225/225 [==============================] - ETA: 0s - loss: 1.7598 - accuracy: 0.3863WARNING:tensorflow:Can save best model only with val_acc available, skipping.\n",
      "225/225 [==============================] - 519s 2s/step - loss: 1.7598 - accuracy: 0.3863 - val_loss: 1.4960 - val_accuracy: 0.4457 - lr: 1.0000e-04\n",
      "Epoch 5/10\n",
      "225/225 [==============================] - ETA: 0s - loss: 1.6982 - accuracy: 0.4020WARNING:tensorflow:Can save best model only with val_acc available, skipping.\n",
      "225/225 [==============================] - 578s 3s/step - loss: 1.6982 - accuracy: 0.4020 - val_loss: 1.4762 - val_accuracy: 0.4563 - lr: 1.0000e-04\n",
      "Epoch 6/10\n",
      "225/225 [==============================] - ETA: 0s - loss: 1.6258 - accuracy: 0.4229WARNING:tensorflow:Can save best model only with val_acc available, skipping.\n",
      "225/225 [==============================] - 585s 3s/step - loss: 1.6258 - accuracy: 0.4229 - val_loss: 1.4174 - val_accuracy: 0.4720 - lr: 1.0000e-04\n",
      "Epoch 7/10\n",
      "225/225 [==============================] - ETA: 0s - loss: 1.5801 - accuracy: 0.4353WARNING:tensorflow:Can save best model only with val_acc available, skipping.\n",
      "225/225 [==============================] - 594s 3s/step - loss: 1.5801 - accuracy: 0.4353 - val_loss: 1.3772 - val_accuracy: 0.4897 - lr: 1.0000e-04\n",
      "Epoch 8/10\n",
      "225/225 [==============================] - ETA: 0s - loss: 1.5377 - accuracy: 0.4510WARNING:tensorflow:Can save best model only with val_acc available, skipping.\n",
      "225/225 [==============================] - 594s 3s/step - loss: 1.5377 - accuracy: 0.4510 - val_loss: 1.3680 - val_accuracy: 0.5008 - lr: 1.0000e-04\n",
      "Epoch 9/10\n",
      "225/225 [==============================] - ETA: 0s - loss: 1.4838 - accuracy: 0.4681WARNING:tensorflow:Can save best model only with val_acc available, skipping.\n",
      "225/225 [==============================] - 541s 2s/step - loss: 1.4838 - accuracy: 0.4681 - val_loss: 1.3253 - val_accuracy: 0.5150 - lr: 1.0000e-04\n",
      "Epoch 10/10\n",
      "225/225 [==============================] - ETA: 0s - loss: 1.4406 - accuracy: 0.4805WARNING:tensorflow:Can save best model only with val_acc available, skipping.\n",
      "225/225 [==============================] - 546s 2s/step - loss: 1.4406 - accuracy: 0.4805 - val_loss: 1.3895 - val_accuracy: 0.4932 - lr: 1.0000e-04\n"
     ]
    }
   ],
   "source": [
    "batch_size = 32\n",
    "history = model.fit_generator(generator=training_set, \n",
    "                                epochs=10, \n",
    "                                validation_data=test_set, \n",
    "                                callbacks=callbacks_list)\n"
   ]
  }
 ],
 "metadata": {
  "kernelspec": {
   "display_name": "Python 3",
   "language": "python",
   "name": "python3"
  },
  "language_info": {
   "codemirror_mode": {
    "name": "ipython",
    "version": 3
   },
   "file_extension": ".py",
   "mimetype": "text/x-python",
   "name": "python",
   "nbconvert_exporter": "python",
   "pygments_lexer": "ipython3",
   "version": "3.10.5"
  },
  "orig_nbformat": 4,
  "vscode": {
   "interpreter": {
    "hash": "52634da84371cba311ea128a5ea7cdc41ff074b781779e754b270ff9f8153cee"
   }
  }
 },
 "nbformat": 4,
 "nbformat_minor": 2
}
